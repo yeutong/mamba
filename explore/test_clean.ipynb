{
 "cells": [
  {
   "cell_type": "code",
   "execution_count": 25,
   "metadata": {},
   "outputs": [],
   "source": [
    "import torch\n",
    "from mamba_ssm.modules.mamba_simple import Mamba"
   ]
  },
  {
   "cell_type": "code",
   "execution_count": 26,
   "metadata": {},
   "outputs": [],
   "source": [
    "batch, length, dim = 2, 64, 16\n",
    "x = torch.randn(batch, length, dim).to(\"cuda\")\n",
    "model = Mamba(\n",
    "    # This module uses roughly 3 * expand * d_model^2 parameters\n",
    "    d_model=dim, # Model dimension d_model\n",
    "    d_state=16,  # SSM state expansion factor\n",
    "    d_conv=4,    # Local convolution width\n",
    "    expand=2,    # Block expansion factor\n",
    ").to(\"cuda\")\n",
    "y = model(x)\n",
    "assert y.shape == x.shape"
   ]
  },
  {
   "cell_type": "code",
   "execution_count": 27,
   "metadata": {},
   "outputs": [
    {
     "data": {
      "text/plain": [
       "tensor([[[-1.3734e-02, -2.1213e-03,  3.9866e-03,  ..., -2.4578e-02,\n",
       "          -8.9588e-03, -1.9662e-02],\n",
       "         [ 4.9733e-02,  2.0208e-02, -7.2006e-04,  ...,  7.7961e-05,\n",
       "           2.0560e-02, -3.7630e-02],\n",
       "         [-9.8380e-02,  6.8168e-02,  6.5655e-03,  ..., -6.3021e-02,\n",
       "          -2.4585e-02, -2.5683e-02],\n",
       "         ...,\n",
       "         [ 8.0266e-02,  5.1947e-02,  7.4426e-02,  ...,  7.4200e-02,\n",
       "           5.6962e-02, -4.3922e-02],\n",
       "         [ 2.9499e-02,  5.9678e-04,  2.3381e-02,  ...,  4.3481e-03,\n",
       "          -5.3622e-02,  2.4644e-02],\n",
       "         [ 5.8308e-02,  2.7924e-02,  5.9399e-02,  ..., -2.2119e-02,\n",
       "           2.2731e-02,  2.8583e-03]],\n",
       "\n",
       "        [[ 1.5607e-02, -3.3724e-04, -9.1325e-03,  ..., -1.6032e-02,\n",
       "          -1.0729e-02, -5.7896e-05],\n",
       "         [-1.2276e-02, -1.6701e-02,  7.6755e-03,  ..., -1.3373e-02,\n",
       "           4.0862e-02,  3.6515e-03],\n",
       "         [ 9.5950e-03,  2.3054e-03,  2.2636e-02,  ...,  2.2525e-02,\n",
       "          -8.1435e-03, -5.7061e-03],\n",
       "         ...,\n",
       "         [ 1.3179e-02,  4.2880e-03,  8.5990e-03,  ..., -5.8514e-02,\n",
       "          -2.7375e-02,  3.5326e-02],\n",
       "         [-2.0892e-03,  1.0398e-02,  3.9701e-02,  ..., -3.6726e-02,\n",
       "           1.2719e-02, -4.0513e-02],\n",
       "         [ 2.3059e-02, -4.0096e-03, -2.8529e-03,  ...,  3.2266e-02,\n",
       "           3.3391e-02, -3.3188e-03]]], device='cuda:0',\n",
       "       grad_fn=<UnsafeViewBackward0>)"
      ]
     },
     "execution_count": 27,
     "metadata": {},
     "output_type": "execute_result"
    }
   ],
   "source": [
    "y"
   ]
  },
  {
   "cell_type": "code",
   "execution_count": 28,
   "metadata": {},
   "outputs": [
    {
     "data": {
      "text/plain": [
       "Mamba(\n",
       "  (in_proj): Linear(in_features=16, out_features=64, bias=False)\n",
       "  (conv1d): Conv1d(32, 32, kernel_size=(4,), stride=(1,), padding=(3,), groups=32)\n",
       "  (act): SiLU()\n",
       "  (x_proj): Linear(in_features=32, out_features=33, bias=False)\n",
       "  (dt_proj): Linear(in_features=1, out_features=32, bias=True)\n",
       "  (out_proj): Linear(in_features=32, out_features=16, bias=False)\n",
       ")"
      ]
     },
     "execution_count": 28,
     "metadata": {},
     "output_type": "execute_result"
    }
   ],
   "source": [
    "model"
   ]
  },
  {
   "cell_type": "code",
   "execution_count": 29,
   "metadata": {},
   "outputs": [
    {
     "name": "stdout",
     "output_type": "stream",
     "text": [
      "['Once upon a time?\\n\\nThe first time I saw the world,']\n"
     ]
    }
   ],
   "source": [
    "# load pretrained mamba model\n",
    "from transformers import MambaConfig, MambaForCausalLM, AutoTokenizer\n",
    "import torch\n",
    "\n",
    "tokenizer = AutoTokenizer.from_pretrained(\"EleutherAI/gpt-neox-20b\")\n",
    "mamba_model = MambaForCausalLM.from_pretrained(\"state-spaces/mamba-130m-hf\")\n",
    "input_ids = tokenizer(\"Once upon a time?\", return_tensors=\"pt\")[\"input_ids\"]\n",
    "\n",
    "out = mamba_model.generate(input_ids, max_new_tokens=10)\n",
    "print(tokenizer.batch_decode(out))\n"
   ]
  },
  {
   "cell_type": "code",
   "execution_count": 30,
   "metadata": {},
   "outputs": [
    {
     "data": {
      "text/plain": [
       "\"Hey how are you doing?\\n\\nI'm so glad you're here.\""
      ]
     },
     "execution_count": 30,
     "metadata": {},
     "output_type": "execute_result"
    }
   ],
   "source": [
    "def get_output_mamba(prompt):\n",
    "    input_ids = tokenizer(prompt, return_tensors=\"pt\")[\"input_ids\"]\n",
    "    out = mamba_model.generate(input_ids, max_new_tokens=10)\n",
    "    return tokenizer.batch_decode(out)[0]\n",
    "\n",
    "get_output_mamba(\"Hey how are you doing?\")"
   ]
  },
  {
   "cell_type": "code",
   "execution_count": 31,
   "metadata": {},
   "outputs": [
    {
     "data": {
      "text/plain": [
       "'1+1=2$ and $1+1=3$'"
      ]
     },
     "execution_count": 31,
     "metadata": {},
     "output_type": "execute_result"
    }
   ],
   "source": [
    "get_output_mamba(\"1+1=\")"
   ]
  },
  {
   "cell_type": "code",
   "execution_count": 32,
   "metadata": {},
   "outputs": [
    {
     "name": "stderr",
     "output_type": "stream",
     "text": [
      "The attention mask and the pad token id were not set. As a consequence, you may observe unexpected behavior. Please pass your input's `attention_mask` to obtain reliable results.\n",
      "Setting `pad_token_id` to `eos_token_id`:None for open-end generation.\n"
     ]
    },
    {
     "data": {
      "text/plain": [
       "'1+1=0$ and $1+1=1$.'"
      ]
     },
     "execution_count": 32,
     "metadata": {},
     "output_type": "execute_result"
    }
   ],
   "source": [
    "from transformers import AutoModelForCausalLM, AutoTokenizer\n",
    "\n",
    "pythia_model = AutoModelForCausalLM.from_pretrained(\"EleutherAI/pythia-160m\")\n",
    "pythia_tokenizer = AutoTokenizer.from_pretrained(\"EleutherAI/pythia-160m\")\n",
    "\n",
    "def get_output_pythia(prompt):\n",
    "    input_ids = pythia_tokenizer(prompt, return_tensors=\"pt\")[\"input_ids\"]\n",
    "    out = pythia_model.generate(input_ids, max_new_tokens=10)\n",
    "    return tokenizer.batch_decode(out)[0]\n",
    "\n",
    "get_output_pythia(\"1+1=\")"
   ]
  },
  {
   "cell_type": "code",
   "execution_count": null,
   "metadata": {},
   "outputs": [],
   "source": []
  }
 ],
 "metadata": {
  "kernelspec": {
   "display_name": "base",
   "language": "python",
   "name": "python3"
  },
  "language_info": {
   "codemirror_mode": {
    "name": "ipython",
    "version": 3
   },
   "file_extension": ".py",
   "mimetype": "text/x-python",
   "name": "python",
   "nbconvert_exporter": "python",
   "pygments_lexer": "ipython3",
   "version": "3.10.13"
  }
 },
 "nbformat": 4,
 "nbformat_minor": 2
}
